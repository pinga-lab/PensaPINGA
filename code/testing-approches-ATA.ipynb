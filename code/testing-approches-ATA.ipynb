{
 "cells": [
  {
   "cell_type": "markdown",
   "metadata": {},
   "source": [
    "# Compare diferent approaches to compute A<sup>T</sup>A"
   ]
  },
  {
   "cell_type": "markdown",
   "metadata": {},
   "source": [
    "### What we want to discuss here?"
   ]
  },
  {
   "cell_type": "markdown",
   "metadata": {},
   "source": [
    "Let $\\mathbf{A}$ be an $N \\times M$ matrix. I would like to investigate different computational approaches to compute the product $\\mathbf{A}^{\\top}\\mathbf{A}$. The simplest approach consists in computing the full $\\mathbf{A}$ and use it to compute the matrix $\\mathbf{A}^{\\top}\\mathbf{A}$. However, this approach requires to keep the full matrix $\\mathbf{A}$ and the resulting matrix $\\mathbf{A}^{\\top}\\mathbf{A}$ in memory. An alternative approach consists in compute $\\mathbf{A}^{\\top}\\mathbf{A}$ iteratively. At each iteration, only a single columns of $\\mathbf{A}$ is computed, so that the full $\\mathbf{A}$ is never computed."
   ]
  },
  {
   "cell_type": "markdown",
   "metadata": {},
   "source": [
    "Let's take a look at this problem by using some math. Consider a $3 \\times 2$ matrix $\\mathbf{A}$ given by:\n",
    "\n",
    "$$\n",
    "\\mathbf{A} =\n",
    "\\begin{bmatrix}\n",
    "a_{11} & a_{12} \\\\\n",
    "a_{21} & a_{22} \\\\\n",
    "a_{31} & a_{32}\n",
    "\\end{bmatrix} \\: .\n",
    "$$\n",
    "\n",
    "By using the elements of $\\mathbf{A}$, the matrix $\\mathbf{A}^{\\top}\\mathbf{A}$ can be defined as follows:\n",
    "\n",
    "$$\n",
    "\\mathbf{A}^{\\top}\\mathbf{A} = \n",
    "\\begin{bmatrix}\n",
    "(a_{11} \\, a_{11} + a_{21} \\, a_{21} + a_{31} \\, a_{31}) &\n",
    "(a_{11} \\, a_{12} + a_{21} \\, a_{22} + a_{31} \\, a_{32}) \\\\\n",
    "(a_{12} \\, a_{11} + a_{22} \\, a_{21} + a_{32} \\, a_{31}) &\n",
    "(a_{12} \\, a_{12} + a_{22} \\, a_{22} + a_{32} \\, a_{32})\n",
    "\\end{bmatrix} \\: .\n",
    "$$\n",
    "\n",
    "This matrix can be conveniently rewritten as the sum of three matrices as follows:\n",
    "\n",
    "$$\n",
    "\\mathbf{A}^{\\top}\\mathbf{A} = \n",
    "\\begin{bmatrix}\n",
    "a_{11} \\, a_{11} &\n",
    "a_{11} \\, a_{12} \\\\\n",
    "a_{12} \\, a_{11} &\n",
    "a_{12} \\, a_{12}\n",
    "\\end{bmatrix} +\n",
    "\\begin{bmatrix}\n",
    "a_{21} \\, a_{21} &\n",
    "a_{21} \\, a_{22} \\\\\n",
    "a_{22} \\, a_{21} &\n",
    "a_{22} \\, a_{22}\n",
    "\\end{bmatrix} +\n",
    "\\begin{bmatrix}\n",
    "a_{31} \\, a_{31} &\n",
    "a_{31} \\, a_{32} \\\\\n",
    "a_{32} \\, a_{31} &\n",
    "a_{32} \\, a_{32}\n",
    "\\end{bmatrix} \\: .\n",
    "$$\n",
    "\n",
    "In this alternative definition of $\\mathbf{A}^{\\top}\\mathbf{A}$, we can see that the each term depends only on the elements of a specific line of $\\mathbf{A}$. Additionaly, each term represents an [outer product](https://en.wikipedia.org/wiki/Outer_product) of a specific line of $\\mathbf{A}$.\n",
    "\n",
    "The main message here is: $\\mathbf{A}^{\\top}\\mathbf{A}$ can be computed iteratively, by using a single line of $\\mathbf{A}$ at each iteration."
   ]
  },
  {
   "cell_type": "markdown",
   "metadata": {},
   "source": [
    "This notebook present four different approaches to compute the matrix $\\mathbf{A}^{\\top}\\mathbf{A}$. The functions implementing these approaches are in the file `compute_ATA.py`. To analyse the performence of each approach, I have used the magic commands `%%timeit`, `%%memit`, `%memit` and `%lprun`. References to understand how these commands work are the [Profiling and Timing Code](https://jakevdp.github.io/PythonDataScienceHandbook/01.07-timing-and-profiling.html), written by Jake VanderPlas, and the [Trying to understand python memory profiler](https://stackoverflow.com/questions/45318536/trying-to-understand-python-memory-profiler), posted in Stack Overflow."
   ]
  },
  {
   "cell_type": "markdown",
   "metadata": {},
   "source": [
    "### Import the required stuff"
   ]
  },
  {
   "cell_type": "code",
   "execution_count": 1,
   "metadata": {},
   "outputs": [],
   "source": [
    "import numpy as np\n",
    "\n",
    "# wrappers for BLAS routines\n",
    "import scipy.linalg.blas as bla\n",
    "\n",
    "# needed to use the line-by-line profiler %lprun\n",
    "%load_ext line_profiler\n",
    "\n",
    "# needed to use the memory profiler %%memit\n",
    "%load_ext memory_profiler"
   ]
  },
  {
   "cell_type": "code",
   "execution_count": 2,
   "metadata": {},
   "outputs": [],
   "source": [
    "import matplotlib.pyplot as plt"
   ]
  },
  {
   "cell_type": "code",
   "execution_count": 3,
   "metadata": {},
   "outputs": [],
   "source": [
    "# functions to be analyzed\n",
    "import compute_ATA as ata"
   ]
  },
  {
   "cell_type": "markdown",
   "metadata": {},
   "source": [
    "### Auxiliary variables"
   ]
  },
  {
   "cell_type": "code",
   "execution_count": 4,
   "metadata": {},
   "outputs": [],
   "source": [
    "# functions names\n",
    "labels = ['compute_A', 'compute_ATA_numpy', \n",
    "          'compute_ATA_blas_dger', 'compute_ATA_blas_dsyr']\n",
    "\n",
    "# average execution time\n",
    "average_times = []\n",
    "\n",
    "# standard deviation of the execution time \n",
    "stdev_times = []\n",
    "\n",
    "# memory use\n",
    "memory = []"
   ]
  },
  {
   "cell_type": "code",
   "execution_count": 5,
   "metadata": {},
   "outputs": [],
   "source": [
    "# order of the square matrix A\n",
    "N = 300"
   ]
  },
  {
   "cell_type": "code",
   "execution_count": 6,
   "metadata": {},
   "outputs": [
    {
     "name": "stdout",
     "output_type": "stream",
     "text": [
      "N\t ata\t average_times\t bla\t labels\t memory\t np\t plt\t stdev_times\t \n",
      "\n"
     ]
    }
   ],
   "source": [
    "# Print the name of all variables\n",
    "%who"
   ]
  },
  {
   "cell_type": "markdown",
   "metadata": {},
   "source": [
    "## Profiling the functions"
   ]
  },
  {
   "cell_type": "markdown",
   "metadata": {},
   "source": [
    "#### Compute the full A and then the matrix A<sup>T</sup>A (Simplest approach)"
   ]
  },
  {
   "cell_type": "code",
   "execution_count": 7,
   "metadata": {},
   "outputs": [
    {
     "name": "stdout",
     "output_type": "stream",
     "text": [
      "14 ms ± 1.23 ms per loop (mean ± std. dev. of 10 runs, 10 loops each)\n"
     ]
    },
    {
     "data": {
      "text/plain": [
       "<TimeitResult : 14 ms ± 1.23 ms per loop (mean ± std. dev. of 10 runs, 10 loops each)>"
      ]
     },
     "execution_count": 7,
     "metadata": {},
     "output_type": "execute_result"
    }
   ],
   "source": [
    "%%timeit -n 10 -r 10 -o\n",
    "A = ata.compute_A(N)\n",
    "ATA1 = np.dot(A.T, A)"
   ]
  },
  {
   "cell_type": "code",
   "execution_count": 8,
   "metadata": {},
   "outputs": [],
   "source": [
    "average_times.append(_.average)\n",
    "stdev_times.append(_.stdev)"
   ]
  },
  {
   "cell_type": "code",
   "execution_count": 9,
   "metadata": {},
   "outputs": [
    {
     "name": "stdout",
     "output_type": "stream",
     "text": [
      "peak memory: 94.41 MiB, increment: 0.11 MiB\n"
     ]
    },
    {
     "data": {
      "text/plain": [
       "<MemitResult : peak memory: 94.41 MiB, increment: 0.11 MiB>"
      ]
     },
     "execution_count": 9,
     "metadata": {},
     "output_type": "execute_result"
    }
   ],
   "source": [
    "%memit -o"
   ]
  },
  {
   "cell_type": "code",
   "execution_count": 10,
   "metadata": {},
   "outputs": [],
   "source": [
    "start_memory = _.mem_usage[0]"
   ]
  },
  {
   "cell_type": "code",
   "execution_count": 11,
   "metadata": {},
   "outputs": [
    {
     "name": "stdout",
     "output_type": "stream",
     "text": [
      "peak memory: 95.16 MiB, increment: 0.48 MiB\n"
     ]
    },
    {
     "data": {
      "text/plain": [
       "<MemitResult : peak memory: 95.16 MiB, increment: 0.48 MiB>"
      ]
     },
     "execution_count": 11,
     "metadata": {},
     "output_type": "execute_result"
    }
   ],
   "source": [
    "%%memit -r 10 -o\n",
    "A = ata.compute_A(N)\n",
    "ATA1 = np.dot(A.T, A)"
   ]
  },
  {
   "cell_type": "code",
   "execution_count": 12,
   "metadata": {},
   "outputs": [],
   "source": [
    "memory.append(_.mem_usage[0] - start_memory)"
   ]
  },
  {
   "cell_type": "code",
   "execution_count": 13,
   "metadata": {},
   "outputs": [
    {
     "name": "stdout",
     "output_type": "stream",
     "text": [
      "A\t ATA1\t N\t ata\t average_times\t bla\t labels\t memory\t np\t \n",
      "plt\t start_memory\t stdev_times\t \n"
     ]
    }
   ],
   "source": [
    "# Print the name of all variables\n",
    "%who"
   ]
  },
  {
   "cell_type": "markdown",
   "metadata": {},
   "source": [
    "#### Compute a single column of A and use `numpy.outer` to iteratively update the matrix A<sup>T</sup>A"
   ]
  },
  {
   "cell_type": "code",
   "execution_count": 14,
   "metadata": {},
   "outputs": [
    {
     "name": "stdout",
     "output_type": "stream",
     "text": [
      "76.4 ms ± 732 µs per loop (mean ± std. dev. of 10 runs, 10 loops each)\n"
     ]
    },
    {
     "data": {
      "text/plain": [
       "<TimeitResult : 76.4 ms ± 732 µs per loop (mean ± std. dev. of 10 runs, 10 loops each)>"
      ]
     },
     "execution_count": 14,
     "metadata": {},
     "output_type": "execute_result"
    }
   ],
   "source": [
    "%%timeit -n 10 -r 10 -o\n",
    "ATA2 = ata.compute_ATA_numpy_outer(N)"
   ]
  },
  {
   "cell_type": "code",
   "execution_count": 15,
   "metadata": {},
   "outputs": [],
   "source": [
    "average_times.append(_.average)\n",
    "stdev_times.append(_.stdev)"
   ]
  },
  {
   "cell_type": "code",
   "execution_count": 16,
   "metadata": {},
   "outputs": [
    {
     "name": "stdout",
     "output_type": "stream",
     "text": [
      "peak memory: 95.86 MiB, increment: 0.02 MiB\n"
     ]
    },
    {
     "data": {
      "text/plain": [
       "<MemitResult : peak memory: 95.86 MiB, increment: 0.02 MiB>"
      ]
     },
     "execution_count": 16,
     "metadata": {},
     "output_type": "execute_result"
    }
   ],
   "source": [
    "%memit -o"
   ]
  },
  {
   "cell_type": "code",
   "execution_count": 17,
   "metadata": {},
   "outputs": [],
   "source": [
    "start_memory = _.mem_usage[0]"
   ]
  },
  {
   "cell_type": "code",
   "execution_count": 18,
   "metadata": {},
   "outputs": [
    {
     "name": "stdout",
     "output_type": "stream",
     "text": [
      "peak memory: 95.86 MiB, increment: 0.00 MiB\n"
     ]
    },
    {
     "data": {
      "text/plain": [
       "<MemitResult : peak memory: 95.86 MiB, increment: 0.00 MiB>"
      ]
     },
     "execution_count": 18,
     "metadata": {},
     "output_type": "execute_result"
    }
   ],
   "source": [
    "%%memit -r 10 -o\n",
    "ATA2 = ata.compute_ATA_numpy_outer(N)"
   ]
  },
  {
   "cell_type": "code",
   "execution_count": 19,
   "metadata": {},
   "outputs": [],
   "source": [
    "memory.append(_.mem_usage[0] - start_memory)"
   ]
  },
  {
   "cell_type": "code",
   "execution_count": 20,
   "metadata": {
    "scrolled": false
   },
   "outputs": [
    {
     "name": "stdout",
     "output_type": "stream",
     "text": [
      "\n",
      "*** Profile printout saved to text file 'lprun_numpy_outer'. \n"
     ]
    }
   ],
   "source": [
    "%lprun -T lprun_numpy_outer -f ata.compute_ATA_numpy_outer ata.compute_ATA_numpy_outer(N)"
   ]
  },
  {
   "cell_type": "code",
   "execution_count": 21,
   "metadata": {},
   "outputs": [
    {
     "name": "stdout",
     "output_type": "stream",
     "text": [
      "A\t ATA1\t ATA2\t N\t ata\t average_times\t bla\t labels\t memory\t \n",
      "np\t plt\t start_memory\t stdev_times\t \n"
     ]
    }
   ],
   "source": [
    "# Print the name of all variables\n",
    "%who"
   ]
  },
  {
   "cell_type": "markdown",
   "metadata": {},
   "source": [
    "#### Compute a single column of A and use `scipy.linalg.dger` to iteratively update the matrix A<sup>T</sup>A"
   ]
  },
  {
   "cell_type": "code",
   "execution_count": 22,
   "metadata": {
    "scrolled": false
   },
   "outputs": [
    {
     "name": "stdout",
     "output_type": "stream",
     "text": [
      "20.3 ms ± 1.13 ms per loop (mean ± std. dev. of 10 runs, 10 loops each)\n"
     ]
    },
    {
     "data": {
      "text/plain": [
       "<TimeitResult : 20.3 ms ± 1.13 ms per loop (mean ± std. dev. of 10 runs, 10 loops each)>"
      ]
     },
     "execution_count": 22,
     "metadata": {},
     "output_type": "execute_result"
    }
   ],
   "source": [
    "%%timeit -n 10 -r 10 -o\n",
    "ATA3 = ata.compute_ATA_blas_dger(N)"
   ]
  },
  {
   "cell_type": "code",
   "execution_count": 23,
   "metadata": {},
   "outputs": [],
   "source": [
    "average_times.append(_.average)\n",
    "stdev_times.append(_.stdev)"
   ]
  },
  {
   "cell_type": "code",
   "execution_count": 24,
   "metadata": {},
   "outputs": [
    {
     "name": "stdout",
     "output_type": "stream",
     "text": [
      "peak memory: 96.74 MiB, increment: 0.00 MiB\n"
     ]
    },
    {
     "data": {
      "text/plain": [
       "<MemitResult : peak memory: 96.74 MiB, increment: 0.00 MiB>"
      ]
     },
     "execution_count": 24,
     "metadata": {},
     "output_type": "execute_result"
    }
   ],
   "source": [
    "%memit -o"
   ]
  },
  {
   "cell_type": "code",
   "execution_count": 25,
   "metadata": {},
   "outputs": [],
   "source": [
    "start_memory = _.mem_usage[0]"
   ]
  },
  {
   "cell_type": "code",
   "execution_count": 26,
   "metadata": {},
   "outputs": [
    {
     "name": "stdout",
     "output_type": "stream",
     "text": [
      "peak memory: 96.80 MiB, increment: 0.06 MiB\n"
     ]
    },
    {
     "data": {
      "text/plain": [
       "<MemitResult : peak memory: 96.80 MiB, increment: 0.06 MiB>"
      ]
     },
     "execution_count": 26,
     "metadata": {},
     "output_type": "execute_result"
    }
   ],
   "source": [
    "%%memit -r 10 -o\n",
    "ATA3 = ata.compute_ATA_blas_dger(N)"
   ]
  },
  {
   "cell_type": "code",
   "execution_count": 27,
   "metadata": {},
   "outputs": [],
   "source": [
    "#memory.append(_.baseline)\n",
    "memory.append(_.mem_usage[0] - start_memory)"
   ]
  },
  {
   "cell_type": "code",
   "execution_count": 28,
   "metadata": {
    "scrolled": false
   },
   "outputs": [
    {
     "name": "stdout",
     "output_type": "stream",
     "text": [
      "\n",
      "*** Profile printout saved to text file 'lprun_blas_dger'. \n"
     ]
    }
   ],
   "source": [
    "%lprun -T lprun_blas_dger -f ata.compute_ATA_blas_dger ata.compute_ATA_blas_dger(N)"
   ]
  },
  {
   "cell_type": "code",
   "execution_count": 29,
   "metadata": {},
   "outputs": [
    {
     "name": "stdout",
     "output_type": "stream",
     "text": [
      "A\t ATA1\t ATA2\t ATA3\t N\t ata\t average_times\t bla\t labels\t \n",
      "memory\t np\t plt\t start_memory\t stdev_times\t \n"
     ]
    }
   ],
   "source": [
    "# Print the name of all variables\n",
    "%who"
   ]
  },
  {
   "cell_type": "markdown",
   "metadata": {},
   "source": [
    "#### Compute a single column of A and use `scipy.linalg.dsyr` to iteratively update the matrix A<sup>T</sup>A"
   ]
  },
  {
   "cell_type": "markdown",
   "metadata": {},
   "source": [
    "Take a look at the notebook `scipy-linalg-blas-examples.ipynb` to undertand how the routine `scipy.linalg.dsyr` works."
   ]
  },
  {
   "cell_type": "code",
   "execution_count": 30,
   "metadata": {},
   "outputs": [
    {
     "name": "stdout",
     "output_type": "stream",
     "text": [
      "22.4 ms ± 940 µs per loop (mean ± std. dev. of 10 runs, 10 loops each)\n"
     ]
    },
    {
     "data": {
      "text/plain": [
       "<TimeitResult : 22.4 ms ± 940 µs per loop (mean ± std. dev. of 10 runs, 10 loops each)>"
      ]
     },
     "execution_count": 30,
     "metadata": {},
     "output_type": "execute_result"
    }
   ],
   "source": [
    "%%timeit -n 10 -r 10 -o\n",
    "ATA4 = ata.compute_ATA_blas_dsyr(N)"
   ]
  },
  {
   "cell_type": "code",
   "execution_count": 31,
   "metadata": {},
   "outputs": [],
   "source": [
    "average_times.append(_.average)\n",
    "stdev_times.append(_.stdev)"
   ]
  },
  {
   "cell_type": "code",
   "execution_count": 32,
   "metadata": {},
   "outputs": [
    {
     "name": "stdout",
     "output_type": "stream",
     "text": [
      "peak memory: 97.56 MiB, increment: 0.00 MiB\n"
     ]
    },
    {
     "data": {
      "text/plain": [
       "<MemitResult : peak memory: 97.56 MiB, increment: 0.00 MiB>"
      ]
     },
     "execution_count": 32,
     "metadata": {},
     "output_type": "execute_result"
    }
   ],
   "source": [
    "%memit -o"
   ]
  },
  {
   "cell_type": "code",
   "execution_count": 33,
   "metadata": {},
   "outputs": [],
   "source": [
    "start_memory = _.mem_usage[0]"
   ]
  },
  {
   "cell_type": "code",
   "execution_count": 34,
   "metadata": {},
   "outputs": [
    {
     "name": "stdout",
     "output_type": "stream",
     "text": [
      "peak memory: 97.61 MiB, increment: 0.00 MiB\n"
     ]
    },
    {
     "data": {
      "text/plain": [
       "<MemitResult : peak memory: 97.61 MiB, increment: 0.00 MiB>"
      ]
     },
     "execution_count": 34,
     "metadata": {},
     "output_type": "execute_result"
    }
   ],
   "source": [
    "%%memit -r 10 -o\n",
    "ATA4 = ata.compute_ATA_blas_dsyr(N)"
   ]
  },
  {
   "cell_type": "code",
   "execution_count": 35,
   "metadata": {},
   "outputs": [],
   "source": [
    "#memory.append(_.baseline)\n",
    "memory.append(_.mem_usage[0] - start_memory)"
   ]
  },
  {
   "cell_type": "code",
   "execution_count": 36,
   "metadata": {
    "scrolled": false
   },
   "outputs": [
    {
     "name": "stdout",
     "output_type": "stream",
     "text": [
      "\n",
      "*** Profile printout saved to text file 'lprun_blas_dsyr'. \n"
     ]
    }
   ],
   "source": [
    "%lprun -T lprun_blas_dsyr -f ata.compute_ATA_blas_dsyr ata.compute_ATA_blas_dsyr(N)"
   ]
  },
  {
   "cell_type": "code",
   "execution_count": 37,
   "metadata": {},
   "outputs": [
    {
     "name": "stdout",
     "output_type": "stream",
     "text": [
      "A\t ATA1\t ATA2\t ATA3\t ATA4\t N\t ata\t average_times\t bla\t \n",
      "labels\t memory\t np\t plt\t start_memory\t stdev_times\t \n"
     ]
    }
   ],
   "source": [
    "# Print the name of all variables\n",
    "%who"
   ]
  },
  {
   "cell_type": "markdown",
   "metadata": {},
   "source": [
    "### Compare the line-by-line profiling of each function (Simplest approach not included)"
   ]
  },
  {
   "cell_type": "code",
   "execution_count": 38,
   "metadata": {},
   "outputs": [
    {
     "name": "stdout",
     "output_type": "stream",
     "text": [
      "Timer unit: 1e-06 s\r\n",
      "\r\n",
      "Total time: 0.091116 s\r\n",
      "File: /home/vanderlei/Documents/Calculo_numerico/code/compute_ATA.py\r\n",
      "Function: compute_ATA_numpy_outer at line 24\r\n",
      "\r\n",
      "Line #      Hits         Time  Per Hit   % Time  Line Contents\r\n",
      "==============================================================\r\n",
      "    24                                           def compute_ATA_numpy_outer(N):\r\n",
      "    25                                               '''\r\n",
      "    26                                               Compute ATA by using the numpy.outer.\r\n",
      "    27                                               '''\r\n",
      "    28         1        256.0    256.0      0.3      ATA = np.zeros((N,N))\r\n",
      "    29       301        366.0      1.2      0.4      for i in range(N):\r\n",
      "    30       300      19855.0     66.2     21.8          ai = compute_v(N)\r\n",
      "    31                                                   # I do not understand the difference between\r\n",
      "    32                                                   # np.multiply.outer and np.outer\r\n",
      "    33                                                   # ATA += np.multiply.outer(ai, ai)\r\n",
      "    34       300      70638.0    235.5     77.5          ATA += np.outer(ai, ai)\r\n",
      "    35         1          1.0      1.0      0.0      return ATA"
     ]
    }
   ],
   "source": [
    "%cat 'lprun_numpy_outer'"
   ]
  },
  {
   "cell_type": "code",
   "execution_count": 39,
   "metadata": {},
   "outputs": [
    {
     "name": "stdout",
     "output_type": "stream",
     "text": [
      "Timer unit: 1e-06 s\r\n",
      "\r\n",
      "Total time: 0.035632 s\r\n",
      "File: /home/vanderlei/Documents/Calculo_numerico/code/compute_ATA.py\r\n",
      "Function: compute_ATA_blas_dger at line 38\r\n",
      "\r\n",
      "Line #      Hits         Time  Per Hit   % Time  Line Contents\r\n",
      "==============================================================\r\n",
      "    38                                           def compute_ATA_blas_dger(N):\r\n",
      "    39                                               '''\r\n",
      "    40                                               Compute ATA by using the scipy wrraper for BLAS dger.\r\n",
      "    41                                               '''\r\n",
      "    42         1         81.0     81.0      0.2      ATA = np.zeros((N,N))\r\n",
      "    43       301        490.0      1.6      1.4      for i in range(N):\r\n",
      "    44       300      26214.0     87.4     73.6          ai = compute_v(N)\r\n",
      "    45       300       8847.0     29.5     24.8          ATA = bla.dger(alpha=1, x=ai, y=ai, a=ATA, overwrite_a=1)\r\n",
      "    46         1          0.0      0.0      0.0      return ATA"
     ]
    }
   ],
   "source": [
    "%cat 'lprun_blas_dger'"
   ]
  },
  {
   "cell_type": "code",
   "execution_count": 40,
   "metadata": {
    "scrolled": false
   },
   "outputs": [
    {
     "name": "stdout",
     "output_type": "stream",
     "text": [
      "Timer unit: 1e-06 s\r\n",
      "\r\n",
      "Total time: 0.032427 s\r\n",
      "File: /home/vanderlei/Documents/Calculo_numerico/code/compute_ATA.py\r\n",
      "Function: compute_ATA_blas_dsyr at line 49\r\n",
      "\r\n",
      "Line #      Hits         Time  Per Hit   % Time  Line Contents\r\n",
      "==============================================================\r\n",
      "    49                                           def compute_ATA_blas_dsyr(N):\r\n",
      "    50                                               '''\r\n",
      "    51                                               Compute only the lower or upper part of ATA\r\n",
      "    52                                               by using the scipy wrraper for BLAS dsyr.\r\n",
      "    53                                               '''\r\n",
      "    54         1        109.0    109.0      0.3      ATA = np.zeros((N,N))\r\n",
      "    55       301        342.0      1.1      1.1      for i in range(N):\r\n",
      "    56       300      21464.0     71.5     66.2          ai = compute_v(N)\r\n",
      "    57       300      10511.0     35.0     32.4          ATA = bla.dsyr(alpha=1, x=ai, lower=1, n=N, a=ATA, overwrite_a=1)\r\n",
      "    58         1          1.0      1.0      0.0      return ATA"
     ]
    }
   ],
   "source": [
    "%cat 'lprun_blas_dsyr'"
   ]
  },
  {
   "cell_type": "markdown",
   "metadata": {},
   "source": [
    "### Plot the results"
   ]
  },
  {
   "cell_type": "code",
   "execution_count": 41,
   "metadata": {},
   "outputs": [],
   "source": [
    "# transform values from s to ms\n",
    "average_times = np.array(average_times)*1000\n",
    "stdev_times = np.array(stdev_times)*1000"
   ]
  },
  {
   "cell_type": "code",
   "execution_count": 42,
   "metadata": {},
   "outputs": [
    {
     "data": {
      "image/png": "[encoded data removed]",
      "text/plain": [
       "<Figure size 432x288 with 1 Axes>"
      ]
     },
     "metadata": {},
     "output_type": "display_data"
    }
   ],
   "source": [
    "plt.figure()\n",
    "\n",
    "plt.title('Different approaches to compute A$^{\\\\top}$A', fontsize=16)\n",
    "plt.barh(labels, average_times, xerr=stdev_times, align='center',\n",
    "         color='blue', ecolor='black')\n",
    "plt.xlabel('Performance (ms)', fontsize=14)\n",
    "plt.xticks(fontsize=12)\n",
    "plt.yticks(fontsize=12)\n",
    "\n",
    "plt.show()"
   ]
  },
  {
   "cell_type": "code",
   "execution_count": 43,
   "metadata": {
    "scrolled": false
   },
   "outputs": [
    {
     "data": {
      "image/png": "[encoded data removed]",
      "text/plain": [
       "<Figure size 432x288 with 1 Axes>"
      ]
     },
     "metadata": {},
     "output_type": "display_data"
    }
   ],
   "source": [
    "plt.figure()\n",
    "\n",
    "plt.title('Different approaches to compute A$^{\\\\top}$A', fontsize=16)\n",
    "plt.barh(labels, memory, align='center',\n",
    "         color='blue', ecolor='black')\n",
    "plt.xlabel('Memory usage (MB)', fontsize=14)\n",
    "plt.xticks(fontsize=12)\n",
    "plt.yticks(fontsize=12)\n",
    "\n",
    "plt.show()"
   ]
  },
  {
   "cell_type": "markdown",
   "metadata": {},
   "source": [
    "The results suggest that the simplest approach is faster, but uses more memory. This \"memory excess\" may be due to the matrix A. In the simplest approach, the matrix A<sup>T</sup>A is computed by using the full matrix A. In the other three approaches, A<sup>T</sup>A is computed iteratively. At each iteration, only a single column of A is computed, so that the full matrix A is never computed."
   ]
  },
  {
   "cell_type": "markdown",
   "metadata": {},
   "source": [
    "### Try to compare the results by removing the memory required to compute the full A in the Simplest approach"
   ]
  },
  {
   "cell_type": "code",
   "execution_count": 44,
   "metadata": {},
   "outputs": [
    {
     "name": "stdout",
     "output_type": "stream",
     "text": [
      "peak memory: 103.11 MiB, increment: 0.02 MiB\n"
     ]
    },
    {
     "data": {
      "text/plain": [
       "<MemitResult : peak memory: 103.11 MiB, increment: 0.02 MiB>"
      ]
     },
     "execution_count": 44,
     "metadata": {},
     "output_type": "execute_result"
    }
   ],
   "source": [
    "%memit -o"
   ]
  },
  {
   "cell_type": "code",
   "execution_count": 45,
   "metadata": {},
   "outputs": [],
   "source": [
    "start_memory = _.mem_usage[0]"
   ]
  },
  {
   "cell_type": "code",
   "execution_count": 46,
   "metadata": {},
   "outputs": [
    {
     "name": "stdout",
     "output_type": "stream",
     "text": [
      "peak memory: 104.79 MiB, increment: 1.68 MiB\n"
     ]
    },
    {
     "data": {
      "text/plain": [
       "<MemitResult : peak memory: 104.79 MiB, increment: 1.68 MiB>"
      ]
     },
     "execution_count": 46,
     "metadata": {},
     "output_type": "execute_result"
    }
   ],
   "source": [
    "%%memit -r 10 -o\n",
    "A = ata.compute_A(N)"
   ]
  },
  {
   "cell_type": "code",
   "execution_count": 47,
   "metadata": {},
   "outputs": [],
   "source": [
    "memory_to_store_A = _.mem_usage[0] - start_memory"
   ]
  },
  {
   "cell_type": "code",
   "execution_count": 48,
   "metadata": {},
   "outputs": [
    {
     "name": "stdout",
     "output_type": "stream",
     "text": [
      "1.6796875\n"
     ]
    }
   ],
   "source": [
    "print (memory_to_store_A)"
   ]
  },
  {
   "cell_type": "code",
   "execution_count": 49,
   "metadata": {},
   "outputs": [],
   "source": [
    "memory[0] -= memory_to_store_A"
   ]
  },
  {
   "cell_type": "code",
   "execution_count": 50,
   "metadata": {},
   "outputs": [
    {
     "data": {
      "image/png": "[encoded data removed]",
      "text/plain": [
       "<Figure size 432x288 with 1 Axes>"
      ]
     },
     "metadata": {},
     "output_type": "display_data"
    }
   ],
   "source": [
    "plt.figure()\n",
    "\n",
    "plt.title('Different approaches to compute A$^{\\\\top}$A', fontsize=16)\n",
    "plt.barh(labels, memory, align='center',\n",
    "         color='blue', ecolor='black')\n",
    "plt.xlabel('Memory usage (MB)', fontsize=14)\n",
    "plt.xticks(fontsize=12)\n",
    "plt.yticks(fontsize=12)\n",
    "\n",
    "plt.show()"
   ]
  },
  {
   "cell_type": "markdown",
   "metadata": {},
   "source": [
    "**Note 1**: I am not convinced that the memory used to compute A was really removed from the previous results. This result seems to be very strange to me."
   ]
  },
  {
   "cell_type": "markdown",
   "metadata": {},
   "source": [
    "**Note 2**: Try to run this notebook by using different values for `N`. The results can be very different."
   ]
  }
 ],
 "metadata": {
  "kernelspec": {
   "display_name": "Python 3",
   "language": "python",
   "name": "python3"
  },
  "language_info": {
   "codemirror_mode": {
    "name": "ipython",
    "version": 3
   },
   "file_extension": ".py",
   "mimetype": "text/x-python",
   "name": "python",
   "nbconvert_exporter": "python",
   "pygments_lexer": "ipython3",
   "version": "3.6.5"
  }
 },
 "nbformat": 4,
 "nbformat_minor": 2
}
